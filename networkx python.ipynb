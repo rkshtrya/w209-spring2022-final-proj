{
 "cells": [
  {
   "cell_type": "code",
   "execution_count": 25,
   "metadata": {},
   "outputs": [],
   "source": [
    "import networkx as nx\n",
    "import simplejson as sjs\n",
    "import json as js\n",
    "import matplotlib.pyplot as plt\n",
    "from pprint import pprint"
   ]
  },
  {
   "cell_type": "code",
   "execution_count": 64,
   "metadata": {},
   "outputs": [],
   "source": [
    "from networkx.readwrite import json_graph"
   ]
  },
  {
   "cell_type": "code",
   "execution_count": 65,
   "metadata": {},
   "outputs": [],
   "source": [
    "def read_json_graph(filename):\n",
    "    with open(filename) as f:\n",
    "        graph_data = js.load(f)\n",
    "    return json_graph.node_link_graph(graph_data)"
   ]
  },
  {
   "cell_type": "code",
   "execution_count": 66,
   "metadata": {},
   "outputs": [],
   "source": [
    "with open(f'EDA/star-wars-network-data-master/starwars-episode-1-interactions.json') as f:\n",
    "    json_data = js.loads(f.read())"
   ]
  },
  {
   "cell_type": "code",
   "execution_count": 67,
   "metadata": {},
   "outputs": [
    {
     "name": "stdout",
     "output_type": "stream",
     "text": [
      "('{\"nodes\": [{\"name\": \"QUI-GON\", \"value\": 60, \"colour\": \"#4f4fb1\"}, {\"name\": '\n",
      " '\"NUTE GUNRAY\", \"value\": 18, \"colour\": \"#808080\"}, {\"name\": \"PK-4\", \"value\": '\n",
      " '2, \"colour\": \"#808080\"}, {\"name\": \"TC-14\", \"value\": 4, \"colour\": \"#808080\"}, '\n",
      " '{\"name\": \"OBI-WAN\", \"value\": 33, \"colour\": \"#48D1CC\"}, {\"name\": \"DOFINE\", '\n",
      " '\"value\": 3, \"colour\": \"#808080\"}, {\"name\": \"RUNE\", \"value\": 10, \"colour\": '\n",
      " '\"#808080\"}, {\"name\": \"TEY HOW\", \"value\": 4, \"colour\": \"#808080\"}, {\"name\": '\n",
      " '\"EMPEROR\", \"value\": 13, \"colour\": \"#191970\"}, {\"name\": \"CAPTAIN PANAKA\", '\n",
      " '\"value\": 19, \"colour\": \"#808080\"}, {\"name\": \"SIO BIBBLE\", \"value\": 7, '\n",
      " '\"colour\": \"#808080\"}, {\"name\": \"JAR JAR\", \"value\": 35, \"colour\": \"#9a9a00\"}, '\n",
      " '{\"name\": \"TARPALS\", \"value\": 3, \"colour\": \"#808080\"}, {\"name\": \"BOSS NASS\", '\n",
      " '\"value\": 4, \"colour\": \"#808080\"}, {\"name\": \"PADME\", \"value\": 30, \"colour\": '\n",
      " '\"#DDA0DD\"}, {\"name\": \"RIC OLIE\", \"value\": 11, \"colour\": \"#808080\"}, {\"name\": '\n",
      " '\"WATTO\", \"value\": 7, \"colour\": \"#808080\"}, {\"name\": \"ANAKIN\", \"value\": 40, '\n",
      " '\"colour\": \"#ce3b59\"}, {\"name\": \"SEBULBA\", \"value\": 3, \"colour\": \"#808080\"}, '\n",
      " '{\"name\": \"JIRA\", \"value\": 3, \"colour\": \"#808080\"}, {\"name\": \"SHMI\", \"value\": '\n",
      " '10, \"colour\": \"#808080\"}, {\"name\": \"C-3PO\", \"value\": 5, \"colour\": '\n",
      " '\"#FFD700\"}, {\"name\": \"DARTH MAUL\", \"value\": 5, \"colour\": \"#808080\"}, '\n",
      " '{\"name\": \"KITSTER\", \"value\": 4, \"colour\": \"#808080\"}, {\"name\": \"WALD\", '\n",
      " '\"value\": 3, \"colour\": \"#808080\"}, {\"name\": \"FODE/BEED\", \"value\": 11, '\n",
      " '\"colour\": \"#808080\"}, {\"name\": \"JABBA\", \"value\": 3, \"colour\": \"#808080\"}, '\n",
      " '{\"name\": \"GREEDO\", \"value\": 2, \"colour\": \"#808080\"}, {\"name\": \"VALORUM\", '\n",
      " '\"value\": 3, \"colour\": \"#808080\"}, {\"name\": \"MACE WINDU\", \"value\": 5, '\n",
      " '\"colour\": \"#808080\"}, {\"name\": \"KI-ADI-MUNDI\", \"value\": 4, \"colour\": '\n",
      " '\"#808080\"}, {\"name\": \"YODA\", \"value\": 6, \"colour\": \"#9ACD32\"}, {\"name\": '\n",
      " '\"RABE\", \"value\": 2, \"colour\": \"#808080\"}, {\"name\": \"BAIL ORGANA\", \"value\": '\n",
      " '2, \"colour\": \"#808080\"}, {\"name\": \"GENERAL CEEL\", \"value\": 4, \"colour\": '\n",
      " '\"#808080\"}, {\"name\": \"BRAVO TWO\", \"value\": 5, \"colour\": \"#808080\"}, {\"name\": '\n",
      " '\"BRAVO THREE\", \"value\": 3, \"colour\": \"#808080\"}], \"links\": [{\"source\": 1, '\n",
      " '\"target\": 0, \"value\": 1}, {\"source\": 2, \"target\": 3, \"value\": 1}, {\"source\": '\n",
      " '4, \"target\": 3, \"value\": 1}, {\"source\": 0, \"target\": 3, \"value\": 1}, '\n",
      " '{\"source\": 4, \"target\": 0, \"value\": 26}, {\"source\": 1, \"target\": 3, \"value\": '\n",
      " '1}, {\"source\": 5, \"target\": 1, \"value\": 1}, {\"source\": 5, \"target\": 3, '\n",
      " '\"value\": 1}, {\"source\": 1, \"target\": 6, \"value\": 8}, {\"source\": 6, \"target\": '\n",
      " '7, \"value\": 2}, {\"source\": 1, \"target\": 7, \"value\": 1}, {\"source\": 9, '\n",
      " '\"target\": 8, \"value\": 3}, {\"source\": 8, \"target\": 10, \"value\": 1}, '\n",
      " '{\"source\": 9, \"target\": 10, \"value\": 3}, {\"source\": 11, \"target\": 0, '\n",
      " '\"value\": 22}, {\"source\": 11, \"target\": 4, \"value\": 12}, {\"source\": 11, '\n",
      " '\"target\": 12, \"value\": 2}, {\"source\": 13, \"target\": 0, \"value\": 2}, '\n",
      " '{\"source\": 13, \"target\": 4, \"value\": 2}, {\"source\": 13, \"target\": 11, '\n",
      " '\"value\": 2}, {\"source\": 8, \"target\": 1, \"value\": 5}, {\"source\": 8, \"target\": '\n",
      " '6, \"value\": 3}, {\"source\": 1, \"target\": 10, \"value\": 2}, {\"source\": 11, '\n",
      " '\"target\": 10, \"value\": 1}, {\"source\": 9, \"target\": 11, \"value\": 7}, '\n",
      " '{\"source\": 0, \"target\": 10, \"value\": 2}, {\"source\": 9, \"target\": 0, \"value\": '\n",
      " '9}, {\"source\": 9, \"target\": 14, \"value\": 7}, {\"source\": 14, \"target\": 0, '\n",
      " '\"value\": 16}, {\"source\": 14, \"target\": 10, \"value\": 1}, {\"source\": 9, '\n",
      " '\"target\": 4, \"value\": 7}, {\"source\": 4, \"target\": 15, \"value\": 3}, '\n",
      " '{\"source\": 11, \"target\": 15, \"value\": 1}, {\"source\": 0, \"target\": 15, '\n",
      " '\"value\": 2}, {\"source\": 9, \"target\": 15, \"value\": 2}, {\"source\": 11, '\n",
      " '\"target\": 14, \"value\": 9}, {\"source\": 0, \"target\": 16, \"value\": 6}, '\n",
      " '{\"source\": 17, \"target\": 16, \"value\": 4}, {\"source\": 14, \"target\": 16, '\n",
      " '\"value\": 3}, {\"source\": 17, \"target\": 0, \"value\": 22}, {\"source\": 17, '\n",
      " '\"target\": 14, \"value\": 16}, {\"source\": 11, \"target\": 18, \"value\": 2}, '\n",
      " '{\"source\": 17, \"target\": 18, \"value\": 2}, {\"source\": 0, \"target\": 18, '\n",
      " '\"value\": 2}, {\"source\": 14, \"target\": 18, \"value\": 2}, {\"source\": 17, '\n",
      " '\"target\": 11, \"value\": 8}, {\"source\": 17, \"target\": 19, \"value\": 2}, '\n",
      " '{\"source\": 19, \"target\": 0, \"value\": 2}, {\"source\": 19, \"target\": 14, '\n",
      " '\"value\": 1}, {\"source\": 17, \"target\": 20, \"value\": 7}, {\"source\": 11, '\n",
      " '\"target\": 20, \"value\": 3}, {\"source\": 0, \"target\": 20, \"value\": 8}, '\n",
      " '{\"source\": 14, \"target\": 20, \"value\": 5}, {\"source\": 17, \"target\": 21, '\n",
      " '\"value\": 3}, {\"source\": 21, \"target\": 14, \"value\": 2}, {\"source\": 4, '\n",
      " '\"target\": 10, \"value\": 1}, {\"source\": 22, \"target\": 8, \"value\": 3}, '\n",
      " '{\"source\": 17, \"target\": 23, \"value\": 3}, {\"source\": 17, \"target\": 24, '\n",
      " '\"value\": 2}, {\"source\": 23, \"target\": 24, \"value\": 1}, {\"source\": 11, '\n",
      " '\"target\": 23, \"value\": 1}, {\"source\": 23, \"target\": 0, \"value\": 2}, '\n",
      " '{\"source\": 11, \"target\": 24, \"value\": 1}, {\"source\": 0, \"target\": 24, '\n",
      " '\"value\": 2}, {\"source\": 17, \"target\": 4, \"value\": 5}, {\"source\": 4, '\n",
      " '\"target\": 20, \"value\": 1}, {\"source\": 21, \"target\": 16, \"value\": 1}, '\n",
      " '{\"source\": 23, \"target\": 16, \"value\": 1}, {\"source\": 21, \"target\": 0, '\n",
      " '\"value\": 1}, {\"source\": 21, \"target\": 23, \"value\": 1}, {\"source\": 23, '\n",
      " '\"target\": 14, \"value\": 1}, {\"source\": 25, \"target\": 26, \"value\": 1}, '\n",
      " '{\"source\": 26, \"target\": 20, \"value\": 1}, {\"source\": 18, \"target\": 20, '\n",
      " '\"value\": 1}, {\"source\": 17, \"target\": 26, \"value\": 1}, {\"source\": 26, '\n",
      " '\"target\": 11, \"value\": 1}, {\"source\": 26, \"target\": 14, \"value\": 1}, '\n",
      " '{\"source\": 26, \"target\": 18, \"value\": 1}, {\"source\": 26, \"target\": 0, '\n",
      " '\"value\": 1}, {\"source\": 25, \"target\": 11, \"value\": 2}, {\"source\": 25, '\n",
      " '\"target\": 14, \"value\": 1}, {\"source\": 27, \"target\": 0, \"value\": 1}, '\n",
      " '{\"source\": 17, \"target\": 27, \"value\": 1}, {\"source\": 27, \"target\": 24, '\n",
      " '\"value\": 1}, {\"source\": 23, \"target\": 20, \"value\": 1}, {\"source\": 17, '\n",
      " '\"target\": 9, \"value\": 2}, {\"source\": 17, \"target\": 15, \"value\": 4}, '\n",
      " '{\"source\": 8, \"target\": 28, \"value\": 2}, {\"source\": 8, \"target\": 11, '\n",
      " '\"value\": 2}, {\"source\": 8, \"target\": 0, \"value\": 1}, {\"source\": 11, '\n",
      " '\"target\": 28, \"value\": 1}, {\"source\": 0, \"target\": 28, \"value\": 1}, '\n",
      " '{\"source\": 29, \"target\": 0, \"value\": 2}, {\"source\": 30, \"target\": 0, '\n",
      " '\"value\": 2}, {\"source\": 0, \"target\": 31, \"value\": 2}, {\"source\": 0, '\n",
      " '\"target\": 32, \"value\": 1}, {\"source\": 30, \"target\": 29, \"value\": 3}, '\n",
      " '{\"source\": 29, \"target\": 31, \"value\": 4}, {\"source\": 17, \"target\": 29, '\n",
      " '\"value\": 3}, {\"source\": 29, \"target\": 32, \"value\": 1}, {\"source\": 30, '\n",
      " '\"target\": 31, \"value\": 3}, {\"source\": 17, \"target\": 30, \"value\": 2}, '\n",
      " '{\"source\": 30, \"target\": 32, \"value\": 1}, {\"source\": 17, \"target\": 31, '\n",
      " '\"value\": 3}, {\"source\": 32, \"target\": 31, \"value\": 1}, {\"source\": 17, '\n",
      " '\"target\": 32, \"value\": 1}, {\"source\": 33, \"target\": 8, \"value\": 1}, '\n",
      " '{\"source\": 33, \"target\": 28, \"value\": 1}, {\"source\": 4, \"target\": 31, '\n",
      " '\"value\": 3}, {\"source\": 29, \"target\": 4, \"value\": 2}, {\"source\": 30, '\n",
      " '\"target\": 4, \"value\": 1}, {\"source\": 13, \"target\": 14, \"value\": 2}, '\n",
      " '{\"source\": 22, \"target\": 1, \"value\": 3}, {\"source\": 17, \"target\": 13, '\n",
      " '\"value\": 1}, {\"source\": 13, \"target\": 9, \"value\": 1}, {\"source\": 4, '\n",
      " '\"target\": 14, \"value\": 1}, {\"source\": 8, \"target\": 34, \"value\": 1}, '\n",
      " '{\"source\": 34, \"target\": 1, \"value\": 1}, {\"source\": 22, \"target\": 34, '\n",
      " '\"value\": 1}, {\"source\": 22, \"target\": 6, \"value\": 1}, {\"source\": 35, '\n",
      " '\"target\": 15, \"value\": 4}, {\"source\": 17, \"target\": 35, \"value\": 2}, '\n",
      " '{\"source\": 34, \"target\": 11, \"value\": 1}, {\"source\": 1, \"target\": 14, '\n",
      " '\"value\": 1}, {\"source\": 5, \"target\": 7, \"value\": 1}, {\"source\": 36, '\n",
      " '\"target\": 35, \"value\": 2}, {\"source\": 36, \"target\": 15, \"value\": 2}, '\n",
      " '{\"source\": 17, \"target\": 36, \"value\": 1}, {\"source\": 8, \"target\": 14, '\n",
      " '\"value\": 1}]}')\n"
     ]
    }
   ],
   "source": [
    "data = js.dumps(json_data)\n",
    "pprint(data)"
   ]
  },
  {
   "cell_type": "code",
   "execution_count": 45,
   "metadata": {},
   "outputs": [],
   "source": [
    "# j_graph = read_json_graph(\"EDA/star-wars-network-data-master/starwars-episode-1-interactions_updated.json\")"
   ]
  },
  {
   "cell_type": "code",
   "execution_count": 68,
   "metadata": {},
   "outputs": [],
   "source": [
    "G = nx.Graph()\n",
    "\n",
    "#for key in json_data.keys():\n",
    " #   G.add_edge('ROOT',key)\n",
    "\n",
    "def walk(node):\n",
    "    counter = {}\n",
    "    count = 0\n",
    "    for key, item in node.items():\n",
    "        if isinstance(item, list):\n",
    "            for i in item:\n",
    "                if \"name\" in i:\n",
    "                    counter[i[\"name\"]] = count\n",
    "                    count = count + 1\n",
    "                    #print(i[\"name\"])\n",
    "                    #G.add_node(i[\"name\"])\n",
    "                    #G.add_edge(key,i['name'])\n",
    "                    #G.add_edges_from(elem['value'] for elem in json_data['links'])\n",
    "                    #print(counter)\n",
    "                    #continue\n",
    "                elif \"source\" in i:\n",
    "                    val_list = list(counter.values())\n",
    "                    key_list = list(counter.keys())\n",
    "                    src_pos = val_list.index(i['source'])\n",
    "                    tgt_pos = val_list.index(i['target'])\n",
    "                    #print(\"Source Position: \", key_list[src_pos], \"Target Position: \", key_list[tgt_pos])\n",
    "                    #G.add_edge(key,key_list[position])\n",
    "                    #G.add_edges_from((elem['source'], elem['target']) for elem in json_data['links'])\n",
    "                    #G.add_edges_from((src_pos, tgt_pos))\n",
    "                    G.add_edge(key_list[src_pos], key_list[tgt_pos], weight = i['value'])\n",
    "                    #print(src_name, tgt_name)\n",
    "    #print(counter)\n",
    "                    #continue"
   ]
  },
  {
   "cell_type": "code",
   "execution_count": 69,
   "metadata": {},
   "outputs": [
    {
     "data": {
      "text/plain": [
       "{'nodes': [{'name': 'QUI-GON', 'value': 60, 'colour': '#4f4fb1'},\n",
       "  {'name': 'NUTE GUNRAY', 'value': 18, 'colour': '#808080'},\n",
       "  {'name': 'PK-4', 'value': 2, 'colour': '#808080'},\n",
       "  {'name': 'TC-14', 'value': 4, 'colour': '#808080'},\n",
       "  {'name': 'OBI-WAN', 'value': 33, 'colour': '#48D1CC'},\n",
       "  {'name': 'DOFINE', 'value': 3, 'colour': '#808080'},\n",
       "  {'name': 'RUNE', 'value': 10, 'colour': '#808080'},\n",
       "  {'name': 'TEY HOW', 'value': 4, 'colour': '#808080'},\n",
       "  {'name': 'EMPEROR', 'value': 13, 'colour': '#191970'},\n",
       "  {'name': 'CAPTAIN PANAKA', 'value': 19, 'colour': '#808080'},\n",
       "  {'name': 'SIO BIBBLE', 'value': 7, 'colour': '#808080'},\n",
       "  {'name': 'JAR JAR', 'value': 35, 'colour': '#9a9a00'},\n",
       "  {'name': 'TARPALS', 'value': 3, 'colour': '#808080'},\n",
       "  {'name': 'BOSS NASS', 'value': 4, 'colour': '#808080'},\n",
       "  {'name': 'PADME', 'value': 30, 'colour': '#DDA0DD'},\n",
       "  {'name': 'RIC OLIE', 'value': 11, 'colour': '#808080'},\n",
       "  {'name': 'WATTO', 'value': 7, 'colour': '#808080'},\n",
       "  {'name': 'ANAKIN', 'value': 40, 'colour': '#ce3b59'},\n",
       "  {'name': 'SEBULBA', 'value': 3, 'colour': '#808080'},\n",
       "  {'name': 'JIRA', 'value': 3, 'colour': '#808080'},\n",
       "  {'name': 'SHMI', 'value': 10, 'colour': '#808080'},\n",
       "  {'name': 'C-3PO', 'value': 5, 'colour': '#FFD700'},\n",
       "  {'name': 'DARTH MAUL', 'value': 5, 'colour': '#808080'},\n",
       "  {'name': 'KITSTER', 'value': 4, 'colour': '#808080'},\n",
       "  {'name': 'WALD', 'value': 3, 'colour': '#808080'},\n",
       "  {'name': 'FODE/BEED', 'value': 11, 'colour': '#808080'},\n",
       "  {'name': 'JABBA', 'value': 3, 'colour': '#808080'},\n",
       "  {'name': 'GREEDO', 'value': 2, 'colour': '#808080'},\n",
       "  {'name': 'VALORUM', 'value': 3, 'colour': '#808080'},\n",
       "  {'name': 'MACE WINDU', 'value': 5, 'colour': '#808080'},\n",
       "  {'name': 'KI-ADI-MUNDI', 'value': 4, 'colour': '#808080'},\n",
       "  {'name': 'YODA', 'value': 6, 'colour': '#9ACD32'},\n",
       "  {'name': 'RABE', 'value': 2, 'colour': '#808080'},\n",
       "  {'name': 'BAIL ORGANA', 'value': 2, 'colour': '#808080'},\n",
       "  {'name': 'GENERAL CEEL', 'value': 4, 'colour': '#808080'},\n",
       "  {'name': 'BRAVO TWO', 'value': 5, 'colour': '#808080'},\n",
       "  {'name': 'BRAVO THREE', 'value': 3, 'colour': '#808080'}],\n",
       " 'links': [{'source': 1, 'target': 0, 'value': 1},\n",
       "  {'source': 2, 'target': 3, 'value': 1},\n",
       "  {'source': 4, 'target': 3, 'value': 1},\n",
       "  {'source': 0, 'target': 3, 'value': 1},\n",
       "  {'source': 4, 'target': 0, 'value': 26},\n",
       "  {'source': 1, 'target': 3, 'value': 1},\n",
       "  {'source': 5, 'target': 1, 'value': 1},\n",
       "  {'source': 5, 'target': 3, 'value': 1},\n",
       "  {'source': 1, 'target': 6, 'value': 8},\n",
       "  {'source': 6, 'target': 7, 'value': 2},\n",
       "  {'source': 1, 'target': 7, 'value': 1},\n",
       "  {'source': 9, 'target': 8, 'value': 3},\n",
       "  {'source': 8, 'target': 10, 'value': 1},\n",
       "  {'source': 9, 'target': 10, 'value': 3},\n",
       "  {'source': 11, 'target': 0, 'value': 22},\n",
       "  {'source': 11, 'target': 4, 'value': 12},\n",
       "  {'source': 11, 'target': 12, 'value': 2},\n",
       "  {'source': 13, 'target': 0, 'value': 2},\n",
       "  {'source': 13, 'target': 4, 'value': 2},\n",
       "  {'source': 13, 'target': 11, 'value': 2},\n",
       "  {'source': 8, 'target': 1, 'value': 5},\n",
       "  {'source': 8, 'target': 6, 'value': 3},\n",
       "  {'source': 1, 'target': 10, 'value': 2},\n",
       "  {'source': 11, 'target': 10, 'value': 1},\n",
       "  {'source': 9, 'target': 11, 'value': 7},\n",
       "  {'source': 0, 'target': 10, 'value': 2},\n",
       "  {'source': 9, 'target': 0, 'value': 9},\n",
       "  {'source': 9, 'target': 14, 'value': 7},\n",
       "  {'source': 14, 'target': 0, 'value': 16},\n",
       "  {'source': 14, 'target': 10, 'value': 1},\n",
       "  {'source': 9, 'target': 4, 'value': 7},\n",
       "  {'source': 4, 'target': 15, 'value': 3},\n",
       "  {'source': 11, 'target': 15, 'value': 1},\n",
       "  {'source': 0, 'target': 15, 'value': 2},\n",
       "  {'source': 9, 'target': 15, 'value': 2},\n",
       "  {'source': 11, 'target': 14, 'value': 9},\n",
       "  {'source': 0, 'target': 16, 'value': 6},\n",
       "  {'source': 17, 'target': 16, 'value': 4},\n",
       "  {'source': 14, 'target': 16, 'value': 3},\n",
       "  {'source': 17, 'target': 0, 'value': 22},\n",
       "  {'source': 17, 'target': 14, 'value': 16},\n",
       "  {'source': 11, 'target': 18, 'value': 2},\n",
       "  {'source': 17, 'target': 18, 'value': 2},\n",
       "  {'source': 0, 'target': 18, 'value': 2},\n",
       "  {'source': 14, 'target': 18, 'value': 2},\n",
       "  {'source': 17, 'target': 11, 'value': 8},\n",
       "  {'source': 17, 'target': 19, 'value': 2},\n",
       "  {'source': 19, 'target': 0, 'value': 2},\n",
       "  {'source': 19, 'target': 14, 'value': 1},\n",
       "  {'source': 17, 'target': 20, 'value': 7},\n",
       "  {'source': 11, 'target': 20, 'value': 3},\n",
       "  {'source': 0, 'target': 20, 'value': 8},\n",
       "  {'source': 14, 'target': 20, 'value': 5},\n",
       "  {'source': 17, 'target': 21, 'value': 3},\n",
       "  {'source': 21, 'target': 14, 'value': 2},\n",
       "  {'source': 4, 'target': 10, 'value': 1},\n",
       "  {'source': 22, 'target': 8, 'value': 3},\n",
       "  {'source': 17, 'target': 23, 'value': 3},\n",
       "  {'source': 17, 'target': 24, 'value': 2},\n",
       "  {'source': 23, 'target': 24, 'value': 1},\n",
       "  {'source': 11, 'target': 23, 'value': 1},\n",
       "  {'source': 23, 'target': 0, 'value': 2},\n",
       "  {'source': 11, 'target': 24, 'value': 1},\n",
       "  {'source': 0, 'target': 24, 'value': 2},\n",
       "  {'source': 17, 'target': 4, 'value': 5},\n",
       "  {'source': 4, 'target': 20, 'value': 1},\n",
       "  {'source': 21, 'target': 16, 'value': 1},\n",
       "  {'source': 23, 'target': 16, 'value': 1},\n",
       "  {'source': 21, 'target': 0, 'value': 1},\n",
       "  {'source': 21, 'target': 23, 'value': 1},\n",
       "  {'source': 23, 'target': 14, 'value': 1},\n",
       "  {'source': 25, 'target': 26, 'value': 1},\n",
       "  {'source': 26, 'target': 20, 'value': 1},\n",
       "  {'source': 18, 'target': 20, 'value': 1},\n",
       "  {'source': 17, 'target': 26, 'value': 1},\n",
       "  {'source': 26, 'target': 11, 'value': 1},\n",
       "  {'source': 26, 'target': 14, 'value': 1},\n",
       "  {'source': 26, 'target': 18, 'value': 1},\n",
       "  {'source': 26, 'target': 0, 'value': 1},\n",
       "  {'source': 25, 'target': 11, 'value': 2},\n",
       "  {'source': 25, 'target': 14, 'value': 1},\n",
       "  {'source': 27, 'target': 0, 'value': 1},\n",
       "  {'source': 17, 'target': 27, 'value': 1},\n",
       "  {'source': 27, 'target': 24, 'value': 1},\n",
       "  {'source': 23, 'target': 20, 'value': 1},\n",
       "  {'source': 17, 'target': 9, 'value': 2},\n",
       "  {'source': 17, 'target': 15, 'value': 4},\n",
       "  {'source': 8, 'target': 28, 'value': 2},\n",
       "  {'source': 8, 'target': 11, 'value': 2},\n",
       "  {'source': 8, 'target': 0, 'value': 1},\n",
       "  {'source': 11, 'target': 28, 'value': 1},\n",
       "  {'source': 0, 'target': 28, 'value': 1},\n",
       "  {'source': 29, 'target': 0, 'value': 2},\n",
       "  {'source': 30, 'target': 0, 'value': 2},\n",
       "  {'source': 0, 'target': 31, 'value': 2},\n",
       "  {'source': 0, 'target': 32, 'value': 1},\n",
       "  {'source': 30, 'target': 29, 'value': 3},\n",
       "  {'source': 29, 'target': 31, 'value': 4},\n",
       "  {'source': 17, 'target': 29, 'value': 3},\n",
       "  {'source': 29, 'target': 32, 'value': 1},\n",
       "  {'source': 30, 'target': 31, 'value': 3},\n",
       "  {'source': 17, 'target': 30, 'value': 2},\n",
       "  {'source': 30, 'target': 32, 'value': 1},\n",
       "  {'source': 17, 'target': 31, 'value': 3},\n",
       "  {'source': 32, 'target': 31, 'value': 1},\n",
       "  {'source': 17, 'target': 32, 'value': 1},\n",
       "  {'source': 33, 'target': 8, 'value': 1},\n",
       "  {'source': 33, 'target': 28, 'value': 1},\n",
       "  {'source': 4, 'target': 31, 'value': 3},\n",
       "  {'source': 29, 'target': 4, 'value': 2},\n",
       "  {'source': 30, 'target': 4, 'value': 1},\n",
       "  {'source': 13, 'target': 14, 'value': 2},\n",
       "  {'source': 22, 'target': 1, 'value': 3},\n",
       "  {'source': 17, 'target': 13, 'value': 1},\n",
       "  {'source': 13, 'target': 9, 'value': 1},\n",
       "  {'source': 4, 'target': 14, 'value': 1},\n",
       "  {'source': 8, 'target': 34, 'value': 1},\n",
       "  {'source': 34, 'target': 1, 'value': 1},\n",
       "  {'source': 22, 'target': 34, 'value': 1},\n",
       "  {'source': 22, 'target': 6, 'value': 1},\n",
       "  {'source': 35, 'target': 15, 'value': 4},\n",
       "  {'source': 17, 'target': 35, 'value': 2},\n",
       "  {'source': 34, 'target': 11, 'value': 1},\n",
       "  {'source': 1, 'target': 14, 'value': 1},\n",
       "  {'source': 5, 'target': 7, 'value': 1},\n",
       "  {'source': 36, 'target': 35, 'value': 2},\n",
       "  {'source': 36, 'target': 15, 'value': 2},\n",
       "  {'source': 17, 'target': 36, 'value': 1},\n",
       "  {'source': 8, 'target': 14, 'value': 1}]}"
      ]
     },
     "execution_count": 69,
     "metadata": {},
     "output_type": "execute_result"
    }
   ],
   "source": [
    "json_data"
   ]
  },
  {
   "cell_type": "code",
   "execution_count": 70,
   "metadata": {},
   "outputs": [],
   "source": [
    "walk(json_data)\n",
    "#for elem in json_data['nodes']:\n",
    "#    print(elem['value'])"
   ]
  },
  {
   "cell_type": "code",
   "execution_count": 71,
   "metadata": {},
   "outputs": [
    {
     "data": {
      "text/plain": [
       "NodeView(('NUTE GUNRAY', 'QUI-GON', 'PK-4', 'TC-14', 'OBI-WAN', 'DOFINE', 'RUNE', 'TEY HOW', 'CAPTAIN PANAKA', 'EMPEROR', 'SIO BIBBLE', 'JAR JAR', 'TARPALS', 'BOSS NASS', 'PADME', 'RIC OLIE', 'WATTO', 'ANAKIN', 'SEBULBA', 'JIRA', 'SHMI', 'C-3PO', 'DARTH MAUL', 'KITSTER', 'WALD', 'FODE/BEED', 'JABBA', 'GREEDO', 'VALORUM', 'MACE WINDU', 'KI-ADI-MUNDI', 'YODA', 'RABE', 'BAIL ORGANA', 'GENERAL CEEL', 'BRAVO TWO', 'BRAVO THREE'))"
      ]
     },
     "execution_count": 71,
     "metadata": {},
     "output_type": "execute_result"
    }
   ],
   "source": [
    "#nx.draw(G,with_labels=True)\n",
    "#nx.draw(G,with_labels=True)\n",
    "#nx.edges(G)\n",
    "nx.nodes(G)"
   ]
  },
  {
   "cell_type": "code",
   "execution_count": 72,
   "metadata": {},
   "outputs": [],
   "source": [
    "#Network Metrics for each episode\n",
    "dgc = nx.degree_centrality(G)\n"
   ]
  },
  {
   "cell_type": "code",
   "execution_count": 78,
   "metadata": {},
   "outputs": [],
   "source": [
    "# type(nxnodes)"
   ]
  },
  {
   "cell_type": "code",
   "execution_count": 74,
   "metadata": {},
   "outputs": [],
   "source": [
    "dgc = nx.degree_centrality(G)"
   ]
  },
  {
   "cell_type": "code",
   "execution_count": 75,
   "metadata": {},
   "outputs": [
    {
     "data": {
      "text/plain": [
       "dict"
      ]
     },
     "execution_count": 75,
     "metadata": {},
     "output_type": "execute_result"
    }
   ],
   "source": [
    "type(dgc)"
   ]
  },
  {
   "cell_type": "code",
   "execution_count": 76,
   "metadata": {},
   "outputs": [],
   "source": [
    "closeness = nx.closeness_centrality(G, u=None, distance=None)"
   ]
  },
  {
   "cell_type": "code",
   "execution_count": 77,
   "metadata": {},
   "outputs": [
    {
     "data": {
      "text/plain": [
       "{'NUTE GUNRAY': 0.2777777777777778,\n",
       " 'QUI-GON': 0.6944444444444444,\n",
       " 'PK-4': 0.027777777777777776,\n",
       " 'TC-14': 0.1388888888888889,\n",
       " 'OBI-WAN': 0.3611111111111111,\n",
       " 'DOFINE': 0.08333333333333333,\n",
       " 'RUNE': 0.1111111111111111,\n",
       " 'TEY HOW': 0.08333333333333333,\n",
       " 'CAPTAIN PANAKA': 0.25,\n",
       " 'EMPEROR': 0.3055555555555555,\n",
       " 'SIO BIBBLE': 0.19444444444444442,\n",
       " 'JAR JAR': 0.5,\n",
       " 'TARPALS': 0.027777777777777776,\n",
       " 'BOSS NASS': 0.16666666666666666,\n",
       " 'PADME': 0.4722222222222222,\n",
       " 'RIC OLIE': 0.19444444444444442,\n",
       " 'WATTO': 0.1388888888888889,\n",
       " 'ANAKIN': 0.611111111111111,\n",
       " 'SEBULBA': 0.16666666666666666,\n",
       " 'JIRA': 0.08333333333333333,\n",
       " 'SHMI': 0.2222222222222222,\n",
       " 'C-3PO': 0.1388888888888889,\n",
       " 'DARTH MAUL': 0.1111111111111111,\n",
       " 'KITSTER': 0.2222222222222222,\n",
       " 'WALD': 0.1388888888888889,\n",
       " 'FODE/BEED': 0.08333333333333333,\n",
       " 'JABBA': 0.19444444444444442,\n",
       " 'GREEDO': 0.08333333333333333,\n",
       " 'VALORUM': 0.1111111111111111,\n",
       " 'MACE WINDU': 0.16666666666666666,\n",
       " 'KI-ADI-MUNDI': 0.16666666666666666,\n",
       " 'YODA': 0.16666666666666666,\n",
       " 'RABE': 0.1388888888888889,\n",
       " 'BAIL ORGANA': 0.05555555555555555,\n",
       " 'GENERAL CEEL': 0.1111111111111111,\n",
       " 'BRAVO TWO': 0.08333333333333333,\n",
       " 'BRAVO THREE': 0.08333333333333333}"
      ]
     },
     "execution_count": 77,
     "metadata": {},
     "output_type": "execute_result"
    }
   ],
   "source": [
    "dgc"
   ]
  },
  {
   "cell_type": "code",
   "execution_count": 63,
   "metadata": {},
   "outputs": [
    {
     "data": {
      "text/plain": [
       "{'NUTE GUNRAY': 0.1279692617787856,\n",
       " 'QUI-GON': 0.31915704665704664,\n",
       " 'PK-4': 0.0,\n",
       " 'TC-14': 0.075251952632905,\n",
       " 'OBI-WAN': 0.046589821113630636,\n",
       " 'DOFINE': 0.0019047619047619048,\n",
       " 'RUNE': 0.003756613756613756,\n",
       " 'TEY HOW': 0.0007936507936507937,\n",
       " 'CAPTAIN PANAKA': 0.009765913099246433,\n",
       " 'EMPEROR': 0.10292093268283746,\n",
       " 'SIO BIBBLE': 0.004525069286974049,\n",
       " 'JAR JAR': 0.1517886919077395,\n",
       " 'TARPALS': 0.0,\n",
       " 'BOSS NASS': 0.0,\n",
       " 'PADME': 0.09696345541583634,\n",
       " 'RIC OLIE': 0.025363384411003456,\n",
       " 'WATTO': 0.0,\n",
       " 'ANAKIN': 0.16656216358597312,\n",
       " 'SEBULBA': 0.0,\n",
       " 'JIRA': 0.0,\n",
       " 'SHMI': 0.0015873015873015873,\n",
       " 'C-3PO': 0.0,\n",
       " 'DARTH MAUL': 0.000529100529100529,\n",
       " 'KITSTER': 0.0046296296296296285,\n",
       " 'WALD': 0.0021315192743764175,\n",
       " 'FODE/BEED': 0.0,\n",
       " 'JABBA': 0.005612244897959183,\n",
       " 'GREEDO': 0.0,\n",
       " 'VALORUM': 0.016158180443894728,\n",
       " 'MACE WINDU': 0.00031746031746031746,\n",
       " 'KI-ADI-MUNDI': 0.00031746031746031746,\n",
       " 'YODA': 0.00031746031746031746,\n",
       " 'RABE': 0.0,\n",
       " 'BAIL ORGANA': 0.0,\n",
       " 'GENERAL CEEL': 0.006515495086923658,\n",
       " 'BRAVO TWO': 0.0,\n",
       " 'BRAVO THREE': 0.0}"
      ]
     },
     "execution_count": 63,
     "metadata": {},
     "output_type": "execute_result"
    }
   ],
   "source": [
    "nx.betweenness_centrality(G)"
   ]
  },
  {
   "cell_type": "code",
   "execution_count": 79,
   "metadata": {},
   "outputs": [
    {
     "data": {
      "text/plain": [
       "{'NUTE GUNRAY': 0.12081830850435496,\n",
       " 'QUI-GON': 0.39383196014464866,\n",
       " 'PK-4': 0.007137790829710831,\n",
       " 'TC-14': 0.07561067087544986,\n",
       " 'OBI-WAN': 0.2590769445419323,\n",
       " 'DOFINE': 0.02008423624538875,\n",
       " 'RUNE': 0.03197833058079997,\n",
       " 'TEY HOW': 0.016320677399176413,\n",
       " 'CAPTAIN PANAKA': 0.2159813998541775,\n",
       " 'EMPEROR': 0.1658782605651491,\n",
       " 'SIO BIBBLE': 0.1679165534735332,\n",
       " 'JAR JAR': 0.3104235306703642,\n",
       " 'TARPALS': 0.02930432653067363,\n",
       " 'BOSS NASS': 0.17388075005342887,\n",
       " 'PADME': 0.31274244467155266,\n",
       " 'RIC OLIE': 0.15427976286028597,\n",
       " 'WATTO': 0.1293422451367825,\n",
       " 'ANAKIN': 0.34988385835936264,\n",
       " 'SEBULBA': 0.16427016548173864,\n",
       " 'JIRA': 0.09973047872217002,\n",
       " 'SHMI': 0.20251836050038644,\n",
       " 'C-3PO': 0.1293422451367825,\n",
       " 'DARTH MAUL': 0.03572379548008107,\n",
       " 'KITSTER': 0.18433981841842478,\n",
       " 'WALD': 0.12465177666959572,\n",
       " 'FODE/BEED': 0.07494504925775691,\n",
       " 'JABBA': 0.17073479526060492,\n",
       " 'GREEDO': 0.08197443998562776,\n",
       " 'VALORUM': 0.08437196207093775,\n",
       " 'MACE WINDU': 0.1291220648979479,\n",
       " 'KI-ADI-MUNDI': 0.1291220648979479,\n",
       " 'YODA': 0.1291220648979479,\n",
       " 'RABE': 0.1067746246218148,\n",
       " 'BAIL ORGANA': 0.023624209093833524,\n",
       " 'GENERAL CEEL': 0.05974184967596302,\n",
       " 'BRAVO TWO': 0.05255439115372167,\n",
       " 'BRAVO THREE': 0.05255439115372167}"
      ]
     },
     "execution_count": 79,
     "metadata": {},
     "output_type": "execute_result"
    }
   ],
   "source": [
    "nx.eigenvector_centrality(G)"
   ]
  },
  {
   "cell_type": "code",
   "execution_count": null,
   "metadata": {},
   "outputs": [],
   "source": []
  }
 ],
 "metadata": {
  "interpreter": {
   "hash": "2d6f19f338fcd9d1aa0a89960654dace96bcdb88a2eaa57a31d0d3804adb53cf"
  },
  "kernelspec": {
   "display_name": "Python 3.8.8 ('base')",
   "language": "python",
   "name": "python3"
  },
  "language_info": {
   "codemirror_mode": {
    "name": "ipython",
    "version": 3
   },
   "file_extension": ".py",
   "mimetype": "text/x-python",
   "name": "python",
   "nbconvert_exporter": "python",
   "pygments_lexer": "ipython3",
   "version": "3.7.6"
  },
  "orig_nbformat": 4
 },
 "nbformat": 4,
 "nbformat_minor": 2
}
