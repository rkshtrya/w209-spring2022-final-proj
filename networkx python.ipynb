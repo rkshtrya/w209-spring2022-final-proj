{
 "cells": [
  {
   "cell_type": "code",
   "execution_count": 1,
   "metadata": {},
   "outputs": [],
   "source": [
    "import networkx as nx\n",
    "import simplejson as sjs\n",
    "import json as js\n",
    "import matplotlib.pyplot as plt"
   ]
  },
  {
   "cell_type": "code",
   "execution_count": 2,
   "metadata": {},
   "outputs": [],
   "source": [
    "from networkx.readwrite import json_graph"
   ]
  },
  {
   "cell_type": "code",
   "execution_count": 3,
   "metadata": {},
   "outputs": [],
   "source": [
    "def read_json_graph(filename):\n",
    "    with open(filename) as f:\n",
    "        graph_data = js.load(f)\n",
    "    return json_graph.node_link_graph(graph_data)"
   ]
  },
  {
   "cell_type": "code",
   "execution_count": 4,
   "metadata": {},
   "outputs": [],
   "source": [
    "with open('/Users/rohitkshatriya/w209/FinalProject/w209-spring2022-final-proj/EDA/star-wars-network-data-master/starwars-episode-1-interactions.json') as f:\n",
    "    json_data = js.loads(f.read())"
   ]
  },
  {
   "cell_type": "code",
   "execution_count": 5,
   "metadata": {},
   "outputs": [
    {
     "name": "stdout",
     "output_type": "stream",
     "text": [
      "{\"nodes\": [{\"name\": \"QUI-GON\", \"value\": 60, \"colour\": \"#4f4fb1\"}, {\"name\": \"NUTE GUNRAY\", \"value\": 18, \"colour\": \"#808080\"}, {\"name\": \"PK-4\", \"value\": 2, \"colour\": \"#808080\"}, {\"name\": \"TC-14\", \"value\": 4, \"colour\": \"#808080\"}, {\"name\": \"OBI-WAN\", \"value\": 33, \"colour\": \"#48D1CC\"}, {\"name\": \"DOFINE\", \"value\": 3, \"colour\": \"#808080\"}, {\"name\": \"RUNE\", \"value\": 10, \"colour\": \"#808080\"}, {\"name\": \"TEY HOW\", \"value\": 4, \"colour\": \"#808080\"}, {\"name\": \"EMPEROR\", \"value\": 13, \"colour\": \"#191970\"}, {\"name\": \"CAPTAIN PANAKA\", \"value\": 19, \"colour\": \"#808080\"}, {\"name\": \"SIO BIBBLE\", \"value\": 7, \"colour\": \"#808080\"}, {\"name\": \"JAR JAR\", \"value\": 35, \"colour\": \"#9a9a00\"}, {\"name\": \"TARPALS\", \"value\": 3, \"colour\": \"#808080\"}, {\"name\": \"BOSS NASS\", \"value\": 4, \"colour\": \"#808080\"}, {\"name\": \"PADME\", \"value\": 30, \"colour\": \"#DDA0DD\"}, {\"name\": \"RIC OLIE\", \"value\": 11, \"colour\": \"#808080\"}, {\"name\": \"WATTO\", \"value\": 7, \"colour\": \"#808080\"}, {\"name\": \"ANAKIN\", \"value\": 40, \"colour\": \"#ce3b59\"}, {\"name\": \"SEBULBA\", \"value\": 3, \"colour\": \"#808080\"}, {\"name\": \"JIRA\", \"value\": 3, \"colour\": \"#808080\"}, {\"name\": \"SHMI\", \"value\": 10, \"colour\": \"#808080\"}, {\"name\": \"C-3PO\", \"value\": 5, \"colour\": \"#FFD700\"}, {\"name\": \"DARTH MAUL\", \"value\": 5, \"colour\": \"#808080\"}, {\"name\": \"KITSTER\", \"value\": 4, \"colour\": \"#808080\"}, {\"name\": \"WALD\", \"value\": 3, \"colour\": \"#808080\"}, {\"name\": \"FODE/BEED\", \"value\": 11, \"colour\": \"#808080\"}, {\"name\": \"JABBA\", \"value\": 3, \"colour\": \"#808080\"}, {\"name\": \"GREEDO\", \"value\": 2, \"colour\": \"#808080\"}, {\"name\": \"VALORUM\", \"value\": 3, \"colour\": \"#808080\"}, {\"name\": \"MACE WINDU\", \"value\": 5, \"colour\": \"#808080\"}, {\"name\": \"KI-ADI-MUNDI\", \"value\": 4, \"colour\": \"#808080\"}, {\"name\": \"YODA\", \"value\": 6, \"colour\": \"#9ACD32\"}, {\"name\": \"RABE\", \"value\": 2, \"colour\": \"#808080\"}, {\"name\": \"BAIL ORGANA\", \"value\": 2, \"colour\": \"#808080\"}, {\"name\": \"GENERAL CEEL\", \"value\": 4, \"colour\": \"#808080\"}, {\"name\": \"BRAVO TWO\", \"value\": 5, \"colour\": \"#808080\"}, {\"name\": \"BRAVO THREE\", \"value\": 3, \"colour\": \"#808080\"}], \"links\": [{\"source\": 1, \"target\": 0, \"value\": 1}, {\"source\": 2, \"target\": 3, \"value\": 1}, {\"source\": 4, \"target\": 3, \"value\": 1}, {\"source\": 0, \"target\": 3, \"value\": 1}, {\"source\": 4, \"target\": 0, \"value\": 26}, {\"source\": 1, \"target\": 3, \"value\": 1}, {\"source\": 5, \"target\": 1, \"value\": 1}, {\"source\": 5, \"target\": 3, \"value\": 1}, {\"source\": 1, \"target\": 6, \"value\": 8}, {\"source\": 6, \"target\": 7, \"value\": 2}, {\"source\": 1, \"target\": 7, \"value\": 1}, {\"source\": 9, \"target\": 8, \"value\": 3}, {\"source\": 8, \"target\": 10, \"value\": 1}, {\"source\": 9, \"target\": 10, \"value\": 3}, {\"source\": 11, \"target\": 0, \"value\": 22}, {\"source\": 11, \"target\": 4, \"value\": 12}, {\"source\": 11, \"target\": 12, \"value\": 2}, {\"source\": 13, \"target\": 0, \"value\": 2}, {\"source\": 13, \"target\": 4, \"value\": 2}, {\"source\": 13, \"target\": 11, \"value\": 2}, {\"source\": 8, \"target\": 1, \"value\": 5}, {\"source\": 8, \"target\": 6, \"value\": 3}, {\"source\": 1, \"target\": 10, \"value\": 2}, {\"source\": 11, \"target\": 10, \"value\": 1}, {\"source\": 9, \"target\": 11, \"value\": 7}, {\"source\": 0, \"target\": 10, \"value\": 2}, {\"source\": 9, \"target\": 0, \"value\": 9}, {\"source\": 9, \"target\": 14, \"value\": 7}, {\"source\": 14, \"target\": 0, \"value\": 16}, {\"source\": 14, \"target\": 10, \"value\": 1}, {\"source\": 9, \"target\": 4, \"value\": 7}, {\"source\": 4, \"target\": 15, \"value\": 3}, {\"source\": 11, \"target\": 15, \"value\": 1}, {\"source\": 0, \"target\": 15, \"value\": 2}, {\"source\": 9, \"target\": 15, \"value\": 2}, {\"source\": 11, \"target\": 14, \"value\": 9}, {\"source\": 0, \"target\": 16, \"value\": 6}, {\"source\": 17, \"target\": 16, \"value\": 4}, {\"source\": 14, \"target\": 16, \"value\": 3}, {\"source\": 17, \"target\": 0, \"value\": 22}, {\"source\": 17, \"target\": 14, \"value\": 16}, {\"source\": 11, \"target\": 18, \"value\": 2}, {\"source\": 17, \"target\": 18, \"value\": 2}, {\"source\": 0, \"target\": 18, \"value\": 2}, {\"source\": 14, \"target\": 18, \"value\": 2}, {\"source\": 17, \"target\": 11, \"value\": 8}, {\"source\": 17, \"target\": 19, \"value\": 2}, {\"source\": 19, \"target\": 0, \"value\": 2}, {\"source\": 19, \"target\": 14, \"value\": 1}, {\"source\": 17, \"target\": 20, \"value\": 7}, {\"source\": 11, \"target\": 20, \"value\": 3}, {\"source\": 0, \"target\": 20, \"value\": 8}, {\"source\": 14, \"target\": 20, \"value\": 5}, {\"source\": 17, \"target\": 21, \"value\": 3}, {\"source\": 21, \"target\": 14, \"value\": 2}, {\"source\": 4, \"target\": 10, \"value\": 1}, {\"source\": 22, \"target\": 8, \"value\": 3}, {\"source\": 17, \"target\": 23, \"value\": 3}, {\"source\": 17, \"target\": 24, \"value\": 2}, {\"source\": 23, \"target\": 24, \"value\": 1}, {\"source\": 11, \"target\": 23, \"value\": 1}, {\"source\": 23, \"target\": 0, \"value\": 2}, {\"source\": 11, \"target\": 24, \"value\": 1}, {\"source\": 0, \"target\": 24, \"value\": 2}, {\"source\": 17, \"target\": 4, \"value\": 5}, {\"source\": 4, \"target\": 20, \"value\": 1}, {\"source\": 21, \"target\": 16, \"value\": 1}, {\"source\": 23, \"target\": 16, \"value\": 1}, {\"source\": 21, \"target\": 0, \"value\": 1}, {\"source\": 21, \"target\": 23, \"value\": 1}, {\"source\": 23, \"target\": 14, \"value\": 1}, {\"source\": 25, \"target\": 26, \"value\": 1}, {\"source\": 26, \"target\": 20, \"value\": 1}, {\"source\": 18, \"target\": 20, \"value\": 1}, {\"source\": 17, \"target\": 26, \"value\": 1}, {\"source\": 26, \"target\": 11, \"value\": 1}, {\"source\": 26, \"target\": 14, \"value\": 1}, {\"source\": 26, \"target\": 18, \"value\": 1}, {\"source\": 26, \"target\": 0, \"value\": 1}, {\"source\": 25, \"target\": 11, \"value\": 2}, {\"source\": 25, \"target\": 14, \"value\": 1}, {\"source\": 27, \"target\": 0, \"value\": 1}, {\"source\": 17, \"target\": 27, \"value\": 1}, {\"source\": 27, \"target\": 24, \"value\": 1}, {\"source\": 23, \"target\": 20, \"value\": 1}, {\"source\": 17, \"target\": 9, \"value\": 2}, {\"source\": 17, \"target\": 15, \"value\": 4}, {\"source\": 8, \"target\": 28, \"value\": 2}, {\"source\": 8, \"target\": 11, \"value\": 2}, {\"source\": 8, \"target\": 0, \"value\": 1}, {\"source\": 11, \"target\": 28, \"value\": 1}, {\"source\": 0, \"target\": 28, \"value\": 1}, {\"source\": 29, \"target\": 0, \"value\": 2}, {\"source\": 30, \"target\": 0, \"value\": 2}, {\"source\": 0, \"target\": 31, \"value\": 2}, {\"source\": 0, \"target\": 32, \"value\": 1}, {\"source\": 30, \"target\": 29, \"value\": 3}, {\"source\": 29, \"target\": 31, \"value\": 4}, {\"source\": 17, \"target\": 29, \"value\": 3}, {\"source\": 29, \"target\": 32, \"value\": 1}, {\"source\": 30, \"target\": 31, \"value\": 3}, {\"source\": 17, \"target\": 30, \"value\": 2}, {\"source\": 30, \"target\": 32, \"value\": 1}, {\"source\": 17, \"target\": 31, \"value\": 3}, {\"source\": 32, \"target\": 31, \"value\": 1}, {\"source\": 17, \"target\": 32, \"value\": 1}, {\"source\": 33, \"target\": 8, \"value\": 1}, {\"source\": 33, \"target\": 28, \"value\": 1}, {\"source\": 4, \"target\": 31, \"value\": 3}, {\"source\": 29, \"target\": 4, \"value\": 2}, {\"source\": 30, \"target\": 4, \"value\": 1}, {\"source\": 13, \"target\": 14, \"value\": 2}, {\"source\": 22, \"target\": 1, \"value\": 3}, {\"source\": 17, \"target\": 13, \"value\": 1}, {\"source\": 13, \"target\": 9, \"value\": 1}, {\"source\": 4, \"target\": 14, \"value\": 1}, {\"source\": 8, \"target\": 34, \"value\": 1}, {\"source\": 34, \"target\": 1, \"value\": 1}, {\"source\": 22, \"target\": 34, \"value\": 1}, {\"source\": 22, \"target\": 6, \"value\": 1}, {\"source\": 35, \"target\": 15, \"value\": 4}, {\"source\": 17, \"target\": 35, \"value\": 2}, {\"source\": 34, \"target\": 11, \"value\": 1}, {\"source\": 1, \"target\": 14, \"value\": 1}, {\"source\": 5, \"target\": 7, \"value\": 1}, {\"source\": 36, \"target\": 35, \"value\": 2}, {\"source\": 36, \"target\": 15, \"value\": 2}, {\"source\": 17, \"target\": 36, \"value\": 1}, {\"source\": 8, \"target\": 14, \"value\": 1}]}\n"
     ]
    }
   ],
   "source": [
    "data = js.dumps(json_data)\n",
    "print(data)"
   ]
  },
  {
   "cell_type": "code",
   "execution_count": 6,
   "metadata": {},
   "outputs": [],
   "source": [
    "j_graph = read_json_graph(\"/Users/rohitkshatriya/w209/FinalProject/w209-spring2022-final-proj/EDA/star-wars-network-data-master/starwars-episode-1-interactions.json\")"
   ]
  },
  {
   "cell_type": "code",
   "execution_count": 18,
   "metadata": {},
   "outputs": [],
   "source": [
    "G = nx.Graph()\n",
    "\n",
    "#for key in json_data.keys():\n",
    " #   G.add_edge('ROOT',key)\n",
    "\n",
    "def walk(node):\n",
    "    counter = {}\n",
    "    count = 0\n",
    "    for key, item in node.items():\n",
    "        if isinstance(item, list):\n",
    "            for i in item:\n",
    "                if \"name\" in i:\n",
    "                    counter[i[\"name\"]] = count\n",
    "                    count = count + 1\n",
    "                    #print(i[\"name\"])\n",
    "                    #G.add_node(i[\"name\"])\n",
    "                    #G.add_edge(key,i['name'])\n",
    "                    #G.add_edges_from(elem['value'] for elem in json_data['links'])\n",
    "                    #print(counter)\n",
    "                    #continue\n",
    "                elif \"source\" in i:\n",
    "                    val_list = list(counter.values())\n",
    "                    key_list = list(counter.keys())\n",
    "                    src_pos = val_list.index(i['source'])\n",
    "                    tgt_pos = val_list.index(i['target'])\n",
    "                    #print(\"Source Position: \", key_list[src_pos], \"Target Position: \", key_list[tgt_pos])\n",
    "                    #G.add_edge(key,key_list[position])\n",
    "                    #G.add_edges_from((elem['source'], elem['target']) for elem in json_data['links'])\n",
    "                    #G.add_edges_from((src_pos, tgt_pos))\n",
    "                    G.add_edge(key_list[src_pos], key_list[tgt_pos], weight = i['value'])\n",
    "                    #print(src_name, tgt_name)\n",
    "    #print(counter)\n",
    "                    #continue"
   ]
  },
  {
   "cell_type": "code",
   "execution_count": 19,
   "metadata": {},
   "outputs": [],
   "source": [
    "walk(json_data)\n",
    "#for elem in json_data['nodes']:\n",
    "#    print(elem['value'])"
   ]
  },
  {
   "cell_type": "code",
   "execution_count": 22,
   "metadata": {},
   "outputs": [
    {
     "data": {
      "text/plain": [
       "NodeView(('NUTE GUNRAY', 'QUI-GON', 'PK-4', 'TC-14', 'OBI-WAN', 'DOFINE', 'RUNE', 'TEY HOW', 'CAPTAIN PANAKA', 'EMPEROR', 'SIO BIBBLE', 'JAR JAR', 'TARPALS', 'BOSS NASS', 'PADME', 'RIC OLIE', 'WATTO', 'ANAKIN', 'SEBULBA', 'JIRA', 'SHMI', 'C-3PO', 'DARTH MAUL', 'KITSTER', 'WALD', 'FODE/BEED', 'JABBA', 'GREEDO', 'VALORUM', 'MACE WINDU', 'KI-ADI-MUNDI', 'YODA', 'RABE', 'BAIL ORGANA', 'GENERAL CEEL', 'BRAVO TWO', 'BRAVO THREE'))"
      ]
     },
     "execution_count": 22,
     "metadata": {},
     "output_type": "execute_result"
    }
   ],
   "source": [
    "#nx.draw(G,with_labels=True)\n",
    "#nx.draw(G,with_labels=True)\n",
    "#nx.edges(G)\n",
    "nx.nodes(G)"
   ]
  },
  {
   "cell_type": "code",
   "execution_count": 25,
   "metadata": {},
   "outputs": [],
   "source": [
    "#Network Metrics for each episode\n",
    "dgc = nx.degree_centrality(G)\n"
   ]
  },
  {
   "cell_type": "code",
   "execution_count": 26,
   "metadata": {},
   "outputs": [
    {
     "data": {
      "text/plain": [
       "networkx.classes.reportviews.NodeView"
      ]
     },
     "execution_count": 26,
     "metadata": {},
     "output_type": "execute_result"
    }
   ],
   "source": [
    "type(nxnodes)"
   ]
  },
  {
   "cell_type": "code",
   "execution_count": 30,
   "metadata": {},
   "outputs": [],
   "source": [
    "dgc = nx.degree_centrality(G)"
   ]
  },
  {
   "cell_type": "code",
   "execution_count": 32,
   "metadata": {},
   "outputs": [
    {
     "data": {
      "text/plain": [
       "dict"
      ]
     },
     "execution_count": 32,
     "metadata": {},
     "output_type": "execute_result"
    }
   ],
   "source": [
    "type(dgc)"
   ]
  },
  {
   "cell_type": "code",
   "execution_count": 34,
   "metadata": {},
   "outputs": [],
   "source": [
    "closeness = nx.closeness_centrality(G, u=None, distance=None)"
   ]
  },
  {
   "cell_type": "code",
   "execution_count": null,
   "metadata": {},
   "outputs": [],
   "source": []
  }
 ],
 "metadata": {
  "interpreter": {
   "hash": "2d6f19f338fcd9d1aa0a89960654dace96bcdb88a2eaa57a31d0d3804adb53cf"
  },
  "kernelspec": {
   "display_name": "Python 3.8.8 ('base')",
   "language": "python",
   "name": "python3"
  },
  "language_info": {
   "codemirror_mode": {
    "name": "ipython",
    "version": 3
   },
   "file_extension": ".py",
   "mimetype": "text/x-python",
   "name": "python",
   "nbconvert_exporter": "python",
   "pygments_lexer": "ipython3",
   "version": "3.8.8"
  },
  "orig_nbformat": 4
 },
 "nbformat": 4,
 "nbformat_minor": 2
}
